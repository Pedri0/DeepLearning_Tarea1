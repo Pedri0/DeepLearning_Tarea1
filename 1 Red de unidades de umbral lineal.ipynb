{
 "cells": [
  {
   "cell_type": "code",
   "execution_count": 1,
   "metadata": {},
   "outputs": [],
   "source": [
    "#Importamos las librerias utiles\n",
    "import numpy as np\n",
    "import pandas as pd\n",
    "from matplotlib import pyplot as plt"
   ]
  },
  {
   "cell_type": "markdown",
   "metadata": {},
   "source": [
    "## Ejercicio 1: Red de unidades de umbral lineal\n",
    "\n",
    "Programa y evalua una red de neuronas con funciones de activacion escalon unitario que aproxime la operacion XNOR dada por:\n",
    "\n",
    "\n",
    "| $x_1$ | $x_2$ | $y$ |\n",
    "| :- | :- | :- |\n",
    "| 0 | 0 | 1 \n",
    "| 0 | 1 | 0\n",
    "| 1 | 0 | 0\n",
    "| 1 | 1 | 1"
   ]
  },
  {
   "cell_type": "markdown",
   "metadata": {},
   "source": [
    "La función de activación escalon está dada por \n",
    "\n",
    "$\\phi=   \\left\\{\n",
    "\\begin{array}{ll}\n",
    "      1 & x> 0 \\\\\n",
    "      0 & otro caso \\\\\n",
    "\\end{array} \n",
    "\\right.$"
   ]
  },
  {
   "cell_type": "code",
   "execution_count": 2,
   "metadata": {},
   "outputs": [],
   "source": [
    "#creamos una funcion en python para representar la funcion de activacion\n",
    "#escalon\n",
    "def escalon(z):\n",
    "    if z > 0.0:\n",
    "        return 1.0\n",
    "    else:\n",
    "        return 0.0"
   ]
  },
  {
   "cell_type": "markdown",
   "metadata": {},
   "source": [
    "La operación llevada acabo por la neurona artificial es una suma pesada evaluada en la funcion de activación $\\phi$. La suma pesada consiste en multiplicar cada entrada por su correspondiente peso y sumar el sesgo, es decir,\n",
    "\n",
    "$z= w_1 \\cdot x_1 + w_2 \\cdot x_2 + ... + w_n \\cdot x_n + b$\n",
    "\n",
    "o bien,\n",
    "\n",
    "$z = W^{T}\\vec{x} + b$"
   ]
  },
  {
   "cell_type": "markdown",
   "metadata": {},
   "source": [
    "Un XNOR puede simplificarse de la siguiente manera:\n",
    "\n",
    "$$\\overline{x_1 \\oplus x_2} = (x_1 \\land x_2) \\lor (\\overline{x_1} \\land \\overline{x_2})$$\n",
    "\n",
    "Probar que la expresion booleana anterior se cumple para los $x_1$ y $x_2$ de la tabla es trivial por lo que se deja al lector.\n",
    "\n",
    "La expresion booleana deja en evidencia que nuestra red nueronal o perceptron debe contener tres neuronas \"internas\" que deben cumplir las operaciones de AND, NOR y OR. Debido a esto es necesario vectorizar nuestra funcion de activacion escalon ya que ahora esta funcion comera vectores, esto se hace con la funcion de numpy np.vectorize(function)"
   ]
  },
  {
   "cell_type": "code",
   "execution_count": 3,
   "metadata": {},
   "outputs": [],
   "source": [
    "#definimos el perceptron multicapa\n",
    "def perceptronMulticapa(vector_x, W1, b1, W2, b2):\n",
    "    #realizamos la funcion escalon vectorizado\n",
    "    escalonVectorizado = np.vectorize(escalon)\n",
    "    #definimos/obtenemos la salida de la primera capa oculta\n",
    "    capa1 = escalonVectorizado(np.dot(W1.T , vector_x) + b1)\n",
    "    #definimos/obtenemos la salida de la ultima capa\n",
    "    capa2 = escalonVectorizado(np.dot(W2.T, capa1) + b2)\n",
    "    #regresa el valor de la ultima capa\n",
    "    return capa2"
   ]
  },
  {
   "cell_type": "markdown",
   "metadata": {},
   "source": [
    "Probemos con las siguientes matrices de pesos y sesgos para reproducir la compuerta XNOR:\n",
    "\n",
    "$$W_1 = \\begin{pmatrix}\n",
    "  1 & -1\\\\ \n",
    "  1 & -1\n",
    "\\end{pmatrix}$$  \n",
    "$$\\vec{b_1} = (-1,1)$$\n",
    "$$W_2 =(2,2)$$\n",
    "$$b_2 = -1 $$"
   ]
  },
  {
   "cell_type": "code",
   "execution_count": 4,
   "metadata": {},
   "outputs": [
    {
     "name": "stdout",
     "output_type": "stream",
     "text": [
      "-----------------------------\n",
      "x_1 \tx_2 \ty\ty_hat\n",
      "-----------------------------\n",
      "0.0\t0.0\t1.0\t1.0\n",
      "0.0\t1.0\t0.0\t0.0\n",
      "1.0\t0.0\t0.0\t0.0\n",
      "1.0\t1.0\t1.0\t1.0\n"
     ]
    }
   ],
   "source": [
    "#definimos el vector de entradas x1 y x2\n",
    "X = np.array([[0., 0.], [0., 1.], [1., 0.], [1., 1.]])\n",
    "#definimos las salidas del xnor\n",
    "y_xnor = np.array([1., 0., 0., 1.])\n",
    "#definimos la matriz de pesos W1 y el sesgo b1\n",
    "W1 = np.array([[1, -1], [1, -1]])\n",
    "b1 = np.array([-1, 1])\n",
    "#definimos la matriz de pesos W2 y el sesgo b2\n",
    "W2 = np.array([[2], [2]])\n",
    "b2 = np.array([-1])\n",
    "#Imprimimos en forma de tabla todos los valores de x_j, y y la prediccion\n",
    "print('-----------------------------')\n",
    "print('x_1 \\tx_2 \\ty\\ty_hat')\n",
    "print('-----------------------------')\n",
    "#iteramos sobre todos los valores de X\n",
    "for i in range(X.shape[0]):\n",
    "    #realizamos la prediccion haciendo uso del perceptronMulticapa\n",
    "    y_hat = perceptronMulticapa(X[i], W1, b1, W2, b2)\n",
    "    print('{0}\\t{1}\\t{2}\\t{3}'.format(X[i, 0], X[i, 1], y_xnor[i], y_hat[0]))"
   ]
  },
  {
   "cell_type": "markdown",
   "metadata": {},
   "source": [
    "Ahora hay que definir la retropropagacion y la funcion de entrenamiento para que el perceptronMulticapa aprenda por si solo unos pesos que modelen la XNOR.\n",
    "Vamos a definir una red densa con 2 neuronas de entrada y una sola capa oculta con 15 neuronas con funcion de activacion sigmoide y una neurona de salida con la misma funcion de activacion. La funcion sigmoide esta definida como:\n",
    "\n",
    "$$\\sigma (z) = \\frac{1}{1+exp(-z)}$$\n",
    "\n",
    "Cuya derivada es:\n",
    "\n",
    "$$\\frac{d}{dz} \\sigma (z) = \\sigma (z) (1-\\sigma (z))$$"
   ]
  },
  {
   "cell_type": "code",
   "execution_count": 5,
   "metadata": {},
   "outputs": [],
   "source": [
    "#creamos la funcion sigmoide\n",
    "def sigmoid(z):\n",
    "    return 1/(1+np.exp(-z))\n",
    "#creamos la derivada de la funcion sigmoide\n",
    "def sigmoidDerivative(w):\n",
    "    return np.multiply(sigmoid(w), (1-sigmoid(w)))"
   ]
  },
  {
   "cell_type": "markdown",
   "metadata": {},
   "source": [
    "Dado que la compuerta XNOR recibe dos entradas y escupe dos salidas podemos pensar esta XNOR como un problema de clasificacion binaria. Por esta razon tenemos que usar la funcion de perdida entopia binaria cruzada que se define como:\n",
    "\n",
    "$$BinaryCrossEntropy(\\vec{y},\\hat{\\vec{y}}) = -\\sum^{N}_{i=1} \\left(y^{(i)}log\\hat{y}^{(i)} + (1-y^{(i)})log(1-\\hat{y}^{(i)})  \\right)$$"
   ]
  },
  {
   "cell_type": "code",
   "execution_count": 6,
   "metadata": {},
   "outputs": [],
   "source": [
    "#creamos la funcion de perdida entropia cruzada binaria\n",
    "def BCrossEnt(y,p):\n",
    "    p[p == 0] = np.nextafter(0., 1.)\n",
    "    p[p == 1] = np.nextafter(1., 0.)\n",
    "    return -(np.log(p[y == 1]).sum() + np.log(1 - p[y == 0]).sum())"
   ]
  },
  {
   "cell_type": "markdown",
   "metadata": {},
   "source": [
    "Una metrica para medir la calidad de las predicciones se encuentra en la exactitud definida como:\n",
    "\n",
    "$$Exactitud = \\frac{pred correctas}{total de datos}$$"
   ]
  },
  {
   "cell_type": "code",
   "execution_count": 7,
   "metadata": {},
   "outputs": [],
   "source": [
    "#definimos la funcion de exactitud\n",
    "def exactitud(y, prediccion):\n",
    "    return (y == prediccion).mean() * 100"
   ]
  },
  {
   "cell_type": "markdown",
   "metadata": {},
   "source": [
    "La propagacion hacia adelante depende de la red densa. Como hay una capa oculta y una de salida vamos a tener dos matrices de pesos $W_{1,2}$ y dos sesgos $b_{1,2}$ una para cada una de las capas. Para este caso la propagacion hacia adelante se define como:\n",
    "\n",
    "$$\\vec{a}^{(1)} = \\vec{x}^{(i)}$$\n",
    "$$\\vec{z}^{(2)} = W^{(1)T} \\cdot \\vec{a}^{(1)} + \\vec{b}^{(1)}$$\n",
    "$$\\vec{a}^{(2)} = \\phi (\\vec{z}^{2})$$\n",
    "$$\\vec{z}^{(3)} = W^{(2)T} \\cdot \\vec{a}^{(2)} + \\vec{b}^{(2)}$$\n",
    "$$\\vec{a}^{(3)} = \\phi (\\vec{z}^{3})$$\n",
    "$$\\hat{y}^{(i)} = a{(3)}$$\n",
    "\n",
    "donde $\\phi$ es la funcion de activacion"
   ]
  },
  {
   "cell_type": "code",
   "execution_count": 8,
   "metadata": {},
   "outputs": [],
   "source": [
    "#definimos la funcion de propagacion\n",
    "def propagacion(x, w1, b1, w2, b2):\n",
    "    #calculamos z2\n",
    "    z2 = (w1.T @ x[:, np.newaxis]) + b1\n",
    "    #z2 = np.dot(w1.T,x[:, np.newaxis]) + b1\n",
    "    #calculamos a2\n",
    "    a2 = sigmoid(z2)\n",
    "    #calculamos z3\n",
    "    #z3 = (w2.T @ a2) + b2\n",
    "    z3 = np.dot(w2.T, a2) + b2\n",
    "    #hacemos la prediccion (calculamos a3)\n",
    "    prediccion = sigmoid(z3)\n",
    "    #regresamos los valores que acabamos de calcular\n",
    "    return z2, a2, z3, prediccion"
   ]
  },
  {
   "cell_type": "markdown",
   "metadata": {},
   "source": [
    "Para entrenar vamos a usar el descenso del gradiente, que deriva la funcion de perdida y propaga hacia atras o retroporpaga con respecto a los pesos y sesgos en cada una de estas capas. El algoritmo de retropropagacion nos dice que: Debemos calcular las derivadas parciales de la perdida con respecto a cada peso y sesgo capa por capa, comenzando por la capa de salida y propogandolas hacia atras para calcular las de la capa anterior."
   ]
  },
  {
   "cell_type": "code",
   "execution_count": 9,
   "metadata": {},
   "outputs": [],
   "source": [
    "#definimos la funcion de retropropagacion\n",
    "def retropropagacion(x, y, learningRate = 0.1, epochs = 50, neuronasOcultas=10):\n",
    "    ejemplos = x.shape[0]\n",
    "    entradas = x.shape[1]\n",
    "    #inicializacion de las matrices W y sesgos b\n",
    "    W1 = np.sqrt(1.0 / entradas) * np.random.randn(entradas, neuronasOcultas)\n",
    "    b1 = np.zeros((neuronasOcultas, 1))\n",
    "    W2 = np.sqrt(1.0 / neuronasOcultas) * np.random.randn(neuronasOcultas, 1)\n",
    "    b2 = np.zeros((1, 1))\n",
    "    #definimos el vector de perdidas, que en cada epoca se va a actualizar\n",
    "    perdidas = np.zeros((epochs))\n",
    "    #definimos el vector dew exactitudes que en cada epoca se ca a actualizar\n",
    "    exactitudes = np.zeros((epochs))\n",
    "    #definimos el vector de predicciones que corresponde al numero de salidas\n",
    "    predicciones = np.zeros((y.shape))\n",
    "    #iteramos sobre las epocas\n",
    "    for epoch in range(epochs):\n",
    "        #iteramos sobre todos los ejemplos\n",
    "        for ejemplo in range(ejemplos):\n",
    "            #calculamos los vectores resultantes de la propagacion\n",
    "            z2, a2, z3, prediccion = propagacion(x[ejemplo], W1, b1, W2, b2)\n",
    "            #calculamos el gradiente de la ultima capa\n",
    "            gradCapa2 = prediccion - y[ejemplo]\n",
    "            dw2 = np.outer(a2, gradCapa2)\n",
    "            db2 = gradCapa2\n",
    "            \n",
    "            gradCapa1 = (W2 @ gradCapa2) * sigmoidDerivative(z2)\n",
    "            dw1 = np.outer(x[ejemplo], gradCapa1)\n",
    "            db1 = gradCapa1\n",
    "            #actualizamos los pesos de W2 y b2\n",
    "            W2 = W2 - learningRate * dw2\n",
    "            b2 = b2 - learningRate * db2\n",
    "            #actualizamos los pesos de W1 y b1\n",
    "            W1 = W1 - learningRate * dw1\n",
    "            b1 = b1 - learningRate * db1\n",
    "            #asignamos nuestra prediccion\n",
    "            predicciones[ejemplo] = prediccion\n",
    "        #calculamos la perdida para la epoca actual\n",
    "        perdidas[epoch] = BCrossEnt(y,predicciones)\n",
    "        #calculamos las exactitudes para la epoca actual\n",
    "        exactitudes[epoch] = exactitud(y, np.round(predicciones))\n",
    "        #imprimimos la perdida y la exactitud de cada epoca\n",
    "        print('Epoch {0}: Perdida = {1} Exactitud = {2}'.format(epoch,perdidas[epoch],exactitudes[epoch]))\n",
    "    return W1, W2, b1, b2, perdidas, exactitudes"
   ]
  },
  {
   "cell_type": "code",
   "execution_count": 10,
   "metadata": {},
   "outputs": [
    {
     "name": "stdout",
     "output_type": "stream",
     "text": [
      "Epoch 0: Perdida = 17.085611744385808 Exactitud = 25.0\n",
      "Epoch 1: Perdida = 6.627037195905615 Exactitud = 25.0\n",
      "Epoch 2: Perdida = 5.31649212686404 Exactitud = 50.0\n",
      "Epoch 3: Perdida = 4.976556258534669 Exactitud = 50.0\n",
      "Epoch 4: Perdida = 4.90470437924737 Exactitud = 50.0\n",
      "Epoch 5: Perdida = 4.8491053302920815 Exactitud = 50.0\n",
      "Epoch 6: Perdida = 4.8030856086173 Exactitud = 50.0\n",
      "Epoch 7: Perdida = 4.763681529882156 Exactitud = 50.0\n",
      "Epoch 8: Perdida = 4.728632099071005 Exactitud = 50.0\n",
      "Epoch 9: Perdida = 4.696334553716616 Exactitud = 50.0\n",
      "Epoch 10: Perdida = 4.665616213300607 Exactitud = 50.0\n",
      "Epoch 11: Perdida = 4.635562604085066 Exactitud = 50.0\n",
      "Epoch 12: Perdida = 4.6054065855152135 Exactitud = 50.0\n",
      "Epoch 13: Perdida = 4.574458493818899 Exactitud = 50.0\n",
      "Epoch 14: Perdida = 4.542063016020679 Exactitud = 50.0\n",
      "Epoch 15: Perdida = 4.507575430346115 Exactitud = 50.0\n",
      "Epoch 16: Perdida = 4.470354814930175 Exactitud = 50.0\n",
      "Epoch 17: Perdida = 4.4297750433057175 Exactitud = 50.0\n",
      "Epoch 18: Perdida = 4.385255900559184 Exactitud = 50.0\n",
      "Epoch 19: Perdida = 4.336315947867903 Exactitud = 50.0\n",
      "Epoch 20: Perdida = 4.282645068273528 Exactitud = 50.0\n",
      "Epoch 21: Perdida = 4.224186995242091 Exactitud = 50.0\n",
      "Epoch 22: Perdida = 4.161204416081124 Exactitud = 50.0\n",
      "Epoch 23: Perdida = 4.094234054861664 Exactitud = 50.0\n",
      "Epoch 24: Perdida = 4.023610352487131 Exactitud = 50.0\n",
      "Epoch 25: Perdida = 3.947860910508387 Exactitud = 50.0\n",
      "Epoch 26: Perdida = 3.8609437660370176 Exactitud = 50.0\n",
      "Epoch 27: Perdida = 3.7499316215921326 Exactitud = 50.0\n",
      "Epoch 28: Perdida = 3.5905367521873965 Exactitud = 50.0\n",
      "Epoch 29: Perdida = 3.3561717770789414 Exactitud = 50.0\n",
      "Epoch 30: Perdida = 3.1104992432440746 Exactitud = 50.0\n",
      "Epoch 31: Perdida = 2.921835679825442 Exactitud = 50.0\n",
      "Epoch 32: Perdida = 2.5412899873028616 Exactitud = 50.0\n",
      "Epoch 33: Perdida = 2.0215388520734674 Exactitud = 50.0\n",
      "Epoch 34: Perdida = 1.4051338135893534 Exactitud = 100.0\n",
      "Epoch 35: Perdida = 0.8929998072794552 Exactitud = 100.0\n",
      "Epoch 36: Perdida = 0.6335097531250895 Exactitud = 100.0\n",
      "Epoch 37: Perdida = 0.49913650086334294 Exactitud = 100.0\n",
      "Epoch 38: Perdida = 0.4186611688169963 Exactitud = 100.0\n",
      "Epoch 39: Perdida = 0.36266236800722806 Exactitud = 100.0\n"
     ]
    }
   ],
   "source": [
    "#definimos las entradas\n",
    "x = np.array([[0, 0], [0, 1], [1, 0], [1, 1]])\n",
    "#definimos las salidas\n",
    "y = np.array([[1, 0, 0, 1]]).T\n",
    "#Para reproducibilidad ponemos una semilla\n",
    "np.random.seed(0)\n",
    "#entrenamos la red\n",
    "W1, W2, b1, b2, perdidas, exactitudes = retropropagacion(x,y,epochs=40,learningRate=3,neuronasOcultas=15)"
   ]
  },
  {
   "cell_type": "markdown",
   "metadata": {},
   "source": [
    "Para los hiperparametros encontre que:\n",
    "* Si el learning rate es muy alto > 20, entonces la exactitud se queda atascado en un solo valor\n",
    "* Si el learning rate es menor que 1, entonces la perdida disminuye mul lentamente pero la exactitud tiende a incrementar\n",
    "* Si se ponen muchas neuronas > 25 pero <200 con un learning rate de 1 la exactitud tiende a 75\n",
    "* Si se ponen mas de 200 neuronas con  un LR de 1 la exactitud tiende a 50\n",
    "* Con solo tres neuronas son necesarias mas de 252 epocas para que la exactitud supere 75\n",
    "* Para alcanzar 100 de exactitud los hiperparametros deben setearse en 252 epocas, LR de 1 y 15 neuronas ocultas. Seguramente hay otros hiperparametros que llevan a exactitud 100."
   ]
  },
  {
   "cell_type": "code",
   "execution_count": 11,
   "metadata": {},
   "outputs": [
    {
     "name": "stdout",
     "output_type": "stream",
     "text": [
      "Con los hiperparametros de 252 epocas, LR de 1 y 15 neuronas ocultas se encuentra una exactitud de 100\n",
      "Para dichos hiperparametros tenemos que\n",
      "Matriz de pesos w1\n",
      "[[ 0.50662598 -0.74991573  0.31176988  0.45389428  2.99594927 -5.02504671\n",
      "   0.05827254 -0.85174377 -0.29571625 -6.7581862  -0.02076004  0.20849095\n",
      "  -0.06246649 -0.75721253 -0.91899227]\n",
      " [-1.91680596 -1.0283705  -2.04163752 -1.64943881 -5.34324041 -5.07794316\n",
      "  -1.77635048 -1.07391032 -2.04017652  3.88369323 -2.31258195 -1.8471883\n",
      "  -1.85460368 -1.07405084 -0.84756904]]\n",
      "############################################################\n",
      "vector de sesgos b1\n",
      "[[-1.95589077]\n",
      " [-1.98314928]\n",
      " [-1.65971833]\n",
      " [-2.28234129]\n",
      " [-1.08815307]\n",
      " [ 1.34648911]\n",
      " [-1.88841479]\n",
      " [-1.70368443]\n",
      " [-1.59427575]\n",
      " [-1.60473691]\n",
      " [-1.45491132]\n",
      " [-1.93029549]\n",
      " [-1.76541342]\n",
      " [-1.88925265]\n",
      " [-1.97425662]]\n",
      "############################################################\n",
      "Matriz de pesos w2\n",
      "[[-0.99239874]\n",
      " [-0.64194037]\n",
      " [-1.02884762]\n",
      " [-0.74453693]\n",
      " [-4.69301417]\n",
      " [ 5.11987189]\n",
      " [-0.7669557 ]\n",
      " [-0.78062101]\n",
      " [-0.64642108]\n",
      " [-6.0503632 ]\n",
      " [-0.86630076]\n",
      " [-0.82103829]\n",
      " [-0.74980367]\n",
      " [-0.67049664]\n",
      " [-0.73233851]]\n",
      "############################################################\n",
      "vector de sesgos b2\n",
      "[[2.72698527]]\n",
      "############################################################\n"
     ]
    }
   ],
   "source": [
    "print('Con los hiperparametros de 252 epocas, LR de 1 y 15 neuronas ocultas se encuentra una exactitud de 100')\n",
    "print('Para dichos hiperparametros tenemos que')\n",
    "print('Matriz de pesos w1')\n",
    "print(W1)\n",
    "print('############################################################')\n",
    "print('vector de sesgos b1')\n",
    "print(b1)\n",
    "print('############################################################')\n",
    "print('Matriz de pesos w2')\n",
    "print(W2)\n",
    "print('############################################################')\n",
    "print('vector de sesgos b2')\n",
    "print(b2)\n",
    "print('############################################################')"
   ]
  },
  {
   "cell_type": "markdown",
   "metadata": {},
   "source": [
    "Para comprobar que realmente los valores son correctos podemos hacer las operaciones manualmente. Pero ya tenemos la funcion de propagacion que lo hace y nos regresa la prediccion, entonces"
   ]
  },
  {
   "cell_type": "code",
   "execution_count": 12,
   "metadata": {},
   "outputs": [
    {
     "name": "stdout",
     "output_type": "stream",
     "text": [
      "-----------------------------\n",
      "x_1 \tx_2 \ty\ty_hat\n",
      "-----------------------------\n",
      "0\t0\t1.0\t1.0\n",
      "0\t1\t0.0\t0.0\n",
      "1\t0\t0.0\t0.0\n",
      "1\t1\t1.0\t1.0\n"
     ]
    }
   ],
   "source": [
    "print('-----------------------------')\n",
    "print('x_1 \\tx_2 \\ty\\ty_hat')\n",
    "print('-----------------------------')\n",
    "for i in range(x.shape[0]):\n",
    "    #calculamos la prediccion usando las W's y las b's con la funcion de propagacion\n",
    "    #los valores de a2, z2 y z3 no se usan por eso tienen el nombre de foo\n",
    "    foo1, foo2, foo3, prediccionDespuesdeEntrenar = propagacion(x[i],W1,b1,W2,b2)\n",
    "    print('{0}\\t{1}\\t{2}\\t{3}'.format(x[i, 0], x[i, 1], y_xnor[i], np.round(prediccionDespuesdeEntrenar[0][0])))"
   ]
  },
  {
   "cell_type": "markdown",
   "metadata": {},
   "source": [
    "Ahora Graficamos las perdidas por cada epoca y la exactitud por cada epoca"
   ]
  },
  {
   "cell_type": "code",
   "execution_count": 13,
   "metadata": {},
   "outputs": [
    {
     "data": {
      "image/png": "[encoded data removed]",
      "text/plain": [
       "<Figure size 432x288 with 1 Axes>"
      ]
     },
     "metadata": {
      "needs_background": "light"
     },
     "output_type": "display_data"
    }
   ],
   "source": [
    "#ploteamos la perdida y la exactitud a traves de las epocas\n",
    "plt.plot(np.arange(perdidas.size), perdidas, 'o', label='Perdida', color = 'pink')\n",
    "plt.legend()\n",
    "plt.xlabel('Epocas')\n",
    "plt.ylabel('Perida')\n",
    "plt.grid(True)\n",
    "plt.show()"
   ]
  },
  {
   "cell_type": "code",
   "execution_count": 14,
   "metadata": {},
   "outputs": [
    {
     "data": {
      "image/png": "[encoded data removed]",
      "text/plain": [
       "<Figure size 432x288 with 1 Axes>"
      ]
     },
     "metadata": {
      "needs_background": "light"
     },
     "output_type": "display_data"
    }
   ],
   "source": [
    "plt.plot(np.arange(exactitudes.size), exactitudes, '--', label='Exactitud', color='red')\n",
    "plt.legend()\n",
    "plt.xlabel('Epocas')\n",
    "plt.ylabel('Perida')\n",
    "plt.grid(True)\n",
    "plt.show()"
   ]
  }
 ],
 "metadata": {
  "kernelspec": {
   "display_name": "Python 3",
   "language": "python",
   "name": "python3"
  },
  "language_info": {
   "codemirror_mode": {
    "name": "ipython",
    "version": 3
   },
   "file_extension": ".py",
   "mimetype": "text/x-python",
   "name": "python",
   "nbconvert_exporter": "python",
   "pygments_lexer": "ipython3",
   "version": "3.7.9"
  }
 },
 "nbformat": 4,
 "nbformat_minor": 4
}
