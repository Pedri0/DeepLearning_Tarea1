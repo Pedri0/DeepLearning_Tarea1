{
 "cells": [
  {
   "cell_type": "markdown",
   "metadata": {},
   "source": [
    "# Regresion Lineal con PyTorch\n",
    "\n",
    "### Entrena y evalua un modelo de regresion lineal para el conjunto de datos de calificaciones que considere los dos atributos de entrada"
   ]
  },
  {
   "cell_type": "code",
   "execution_count": 1,
   "metadata": {},
   "outputs": [],
   "source": [
    "#importamos librerias utiles\n",
    "#Deep Learning\n",
    "import torch\n",
    "import torch.nn as nn\n",
    "import torch.nn.functional as func\n",
    "import torch.optim as optim\n",
    "import torchvision.datasets.utils as tutils\n",
    "from torch.utils.data import DataLoader\n",
    "from torchvision.datasets.utils import download_url\n",
    "#matrices, tablas y matematicas\n",
    "import numpy as np\n",
    "import pandas as pd\n",
    "#graficacion\n",
    "from matplotlib import pyplot as plt\n",
    "#acceso a carpetas del sistema\n",
    "import os\n",
    "#para hacer graficas en 3D\n",
    "from mpl_toolkits.mplot3d import Axes3D\n",
    "#para tomar elementos de una secuencia\n",
    "from itertools import islice as take\n",
    "import time"
   ]
  },
  {
   "cell_type": "code",
   "execution_count": 2,
   "metadata": {},
   "outputs": [
    {
     "name": "stdout",
     "output_type": "stream",
     "text": [
      "Using downloaded and verified file: data\\califs.csv\n"
     ]
    }
   ],
   "source": [
    "#sembramos semilla aleatoria para reproducibilidad\n",
    "torch.manual_seed(2020)\n",
    "#descargamos\n",
    "download_url('https://raw.githubusercontent.com/gibranfp/CursoAprendizajeProfundo/master/data/califs/califs.csv','data')"
   ]
  },
  {
   "cell_type": "code",
   "execution_count": 3,
   "metadata": {},
   "outputs": [
    {
     "data": {
      "text/html": [
       "<div>\n",
       "<style scoped>\n",
       "    .dataframe tbody tr th:only-of-type {\n",
       "        vertical-align: middle;\n",
       "    }\n",
       "\n",
       "    .dataframe tbody tr th {\n",
       "        vertical-align: top;\n",
       "    }\n",
       "\n",
       "    .dataframe thead th {\n",
       "        text-align: right;\n",
       "    }\n",
       "</style>\n",
       "<table border=\"1\" class=\"dataframe\">\n",
       "  <thead>\n",
       "    <tr style=\"text-align: right;\">\n",
       "      <th></th>\n",
       "      <th>Calificacion Anterior</th>\n",
       "      <th>Horas de estudio</th>\n",
       "      <th>Calificacion</th>\n",
       "    </tr>\n",
       "  </thead>\n",
       "  <tbody>\n",
       "    <tr>\n",
       "      <th>0</th>\n",
       "      <td>5.638</td>\n",
       "      <td>8.289</td>\n",
       "      <td>5.136</td>\n",
       "    </tr>\n",
       "    <tr>\n",
       "      <th>1</th>\n",
       "      <td>6.744</td>\n",
       "      <td>9.389</td>\n",
       "      <td>5.931</td>\n",
       "    </tr>\n",
       "    <tr>\n",
       "      <th>2</th>\n",
       "      <td>5.136</td>\n",
       "      <td>10.060</td>\n",
       "      <td>5.484</td>\n",
       "    </tr>\n",
       "    <tr>\n",
       "      <th>3</th>\n",
       "      <td>5.748</td>\n",
       "      <td>10.421</td>\n",
       "      <td>6.524</td>\n",
       "    </tr>\n",
       "    <tr>\n",
       "      <th>4</th>\n",
       "      <td>7.136</td>\n",
       "      <td>10.434</td>\n",
       "      <td>6.770</td>\n",
       "    </tr>\n",
       "    <tr>\n",
       "      <th>5</th>\n",
       "      <td>6.489</td>\n",
       "      <td>10.437</td>\n",
       "      <td>6.039</td>\n",
       "    </tr>\n",
       "    <tr>\n",
       "      <th>6</th>\n",
       "      <td>6.148</td>\n",
       "      <td>10.460</td>\n",
       "      <td>6.871</td>\n",
       "    </tr>\n",
       "    <tr>\n",
       "      <th>7</th>\n",
       "      <td>6.834</td>\n",
       "      <td>10.518</td>\n",
       "      <td>6.272</td>\n",
       "    </tr>\n",
       "    <tr>\n",
       "      <th>8</th>\n",
       "      <td>6.381</td>\n",
       "      <td>10.768</td>\n",
       "      <td>7.236</td>\n",
       "    </tr>\n",
       "    <tr>\n",
       "      <th>9</th>\n",
       "      <td>6.274</td>\n",
       "      <td>10.948</td>\n",
       "      <td>7.279</td>\n",
       "    </tr>\n",
       "  </tbody>\n",
       "</table>\n",
       "</div>"
      ],
      "text/plain": [
       "   Calificacion Anterior  Horas de estudio  Calificacion\n",
       "0                  5.638             8.289         5.136\n",
       "1                  6.744             9.389         5.931\n",
       "2                  5.136            10.060         5.484\n",
       "3                  5.748            10.421         6.524\n",
       "4                  7.136            10.434         6.770\n",
       "5                  6.489            10.437         6.039\n",
       "6                  6.148            10.460         6.871\n",
       "7                  6.834            10.518         6.272\n",
       "8                  6.381            10.768         7.236\n",
       "9                  6.274            10.948         7.279"
      ]
     },
     "execution_count": 3,
     "metadata": {},
     "output_type": "execute_result"
    }
   ],
   "source": [
    "#cargamos los datos\n",
    "calificaciones = pd.read_csv('data/califs.csv', names = ['Calificacion Anterior', 'Horas de estudio', 'Calificacion'])\n",
    "#mostamos la cebecera, los primeros diez elementos\n",
    "calificaciones.head(10)"
   ]
  },
  {
   "cell_type": "markdown",
   "metadata": {},
   "source": [
    "###  Grafica los datos en 3D"
   ]
  },
  {
   "cell_type": "code",
   "execution_count": 4,
   "metadata": {},
   "outputs": [],
   "source": [
    "#funcionpara observar un grafico 3D de puntos (x,y,z)\n",
    "#x,y,z son las posiciones de los puntos a observar\n",
    "def grafico3D(x,y,z):  \n",
    "    #para hacer un grafico interactivo\n",
    "    #%matplotlib notebook\n",
    "    fig = plt.figure()\n",
    "    ax = fig.add_subplot(1,1,1, projection='3d')\n",
    "    #definimos los nombres de los ejes\n",
    "    ax.set_ylabel('Horas de estudio')\n",
    "    ax.set_xlabel('Calificacion Anterior')\n",
    "    ax.set_zlabel('Calificacion')\n",
    "    ax.set_title('Calificacion en funcion de la calif anterior y las horas de estudio \\n puntos rojos representan alumnos con calificacion menor a 6.0')\n",
    "    for i in range(x.shape[0]):\n",
    "        if z[i] >= 6.0:\n",
    "            plt.plot(x[i], y[i], z[i], 'o', color='gold')\n",
    "        else:\n",
    "            plt.plot(x[i], y[i], z[i], 'o', color='red')\n",
    "    #plt.close(fig)"
   ]
  },
  {
   "cell_type": "code",
   "execution_count": 5,
   "metadata": {},
   "outputs": [],
   "source": [
    "#Definimos las x,y,z a graficar\n",
    "x = calificaciones['Calificacion Anterior'][:].to_numpy()\n",
    "y = calificaciones['Horas de estudio'][:].to_numpy()\n",
    "z = calificaciones['Calificacion'][:].to_numpy()"
   ]
  },
  {
   "cell_type": "code",
   "execution_count": 6,
   "metadata": {},
   "outputs": [
    {
     "data": {
      "image/png": "[encoded data removed]",
      "text/plain": [
       "<Figure size 432x288 with 1 Axes>"
      ]
     },
     "metadata": {
      "needs_background": "light"
     },
     "output_type": "display_data"
    }
   ],
   "source": [
    "grafico3D(x,y,z)\n",
    "#plt.close()"
   ]
  },
  {
   "cell_type": "markdown",
   "metadata": {},
   "source": [
    "### Realiza la definicion de la arquitectura usando la interfaz de alto como la de medio nivel"
   ]
  },
  {
   "cell_type": "code",
   "execution_count": 7,
   "metadata": {},
   "outputs": [],
   "source": [
    "## Definimos nuestra clase data set:\n",
    "class DataSetCalif:\n",
    "    #creamos la funcion que inicializa el dataset\n",
    "    def __init__(self, x, y):\n",
    "        self.x = x\n",
    "        self.y = y\n",
    "    #creamos la funcion que nos regresa un solo ejemplo\n",
    "    def __getitem__(self, i):\n",
    "        return self.x[i], self.y[i]\n",
    "    #creamos la funcion que nos dice la cantidad de elementos en el dataset\n",
    "    def __len__(self):\n",
    "        return len(self.x)"
   ]
  },
  {
   "cell_type": "code",
   "execution_count": 8,
   "metadata": {},
   "outputs": [
    {
     "name": "stdout",
     "output_type": "stream",
     "text": [
      "El shape de x es (50, 1), el sahpe de y es (50, 1), el shape de z es (50, 1)\n",
      "El tipo de x es float32, el tipo de y es float32, el tipo de z es float32\n",
      "El shape de X es (50, 2), el tipo de X es float32\n"
     ]
    }
   ],
   "source": [
    "#antes de instanciar el data set es necesario pasar x,y,z a vectores columna, por defecto numpy los lee con un shape\n",
    "#tipo (w,) y nosotros queremos (w,1) para esto usamos np.newaxis\n",
    "#dado que vamos a usar x, y como variables independientes hay que pegarlas\n",
    "x = x[:,np.newaxis]\n",
    "y = y[:,np.newaxis]\n",
    "z = z[:,np.newaxis]\n",
    "X = np.concatenate((x,y),axis=1)\n",
    "#pytorch pide que nuestros vectores sean del tipo float 32\n",
    "x = np.float32(x)\n",
    "y = np.float32(y)\n",
    "z = np.float32(z)\n",
    "X = np.float32(X)\n",
    "#imprimimos el shape de nuestros vectores\n",
    "print('El shape de x es {0}, el sahpe de y es {1}, el shape de z es {2}'.format(x.shape, y.shape, z.shape))\n",
    "#imprimimos el tipo de x, y, z\n",
    "print('El tipo de x es {0}, el tipo de y es {1}, el tipo de z es {2}'.format(x.dtype, y.dtype, z.dtype))\n",
    "print('El shape de X es {0}, el tipo de X es {1}'.format(X.shape, X.dtype))"
   ]
  },
  {
   "cell_type": "code",
   "execution_count": 9,
   "metadata": {},
   "outputs": [
    {
     "name": "stdout",
     "output_type": "stream",
     "text": [
      "x shape=torch.Size([16, 2]) dtype=torch.float32\n",
      "z shape=torch.Size([16, 1]) dtype=torch.float32\n"
     ]
    }
   ],
   "source": [
    "#instanciamos el data set con nuestros datos\n",
    "ds = DataSetCalif(X,z)\n",
    "# instanciamos el cargador de datos de torch\n",
    "trainDataL = DataLoader(ds, batch_size=16, shuffle = True)\n",
    "#tomamos un elemento de los datos cargados y los mostramos esto para asegurar que si se cargaron bien\n",
    "for X, z in take(trainDataL, 1):\n",
    "    print(f'x shape={X.shape} dtype={X.dtype}')\n",
    "    print(f'z shape={z.shape} dtype={z.dtype}')"
   ]
  },
  {
   "cell_type": "code",
   "execution_count": 10,
   "metadata": {},
   "outputs": [
    {
     "name": "stdout",
     "output_type": "stream",
     "text": [
      "El tamaño total del data set es 50\n"
     ]
    }
   ],
   "source": [
    "#imprimimos la longitud del dataset\n",
    "print('El tamaño total del data set es {}'.format(ds.__len__()))"
   ]
  },
  {
   "cell_type": "markdown",
   "metadata": {},
   "source": [
    "Dado que estamos haciendo clasificacion lineal y en la misma buscamos una funcion tal que $$f(x) = W^{T}\\vec{x} + \\vec{b}$$ sea la que presente el minimo error para los datos de entrada. Entonces nuestra arquitectura consiste unicamente de una neurona con funcion de activacion lineal."
   ]
  },
  {
   "cell_type": "markdown",
   "metadata": {},
   "source": [
    "#### Alto nivel"
   ]
  },
  {
   "cell_type": "code",
   "execution_count": 11,
   "metadata": {},
   "outputs": [],
   "source": [
    "regLinear = nn.Sequential(\n",
    "    nn.Linear(2, 1, True)\n",
    ")"
   ]
  },
  {
   "cell_type": "markdown",
   "metadata": {},
   "source": [
    "La documentacion nos dice que torch.nn.Linear(in_features: int, out_features: int, bias: bool = True), donde:\n",
    "\n",
    "* in_features – size of each input sample\n",
    "* out_features – size of each output sample\n",
    "* bias – If set to False, the layer will not learn an additive bias. Default: True\n",
    "\n",
    "2 es el tamaño de los datos (x,y), 1 es el tamaño de la salida (z), queremos un bias asi que ponemos True en el argumento"
   ]
  },
  {
   "cell_type": "markdown",
   "metadata": {},
   "source": [
    "#### Medio nivel"
   ]
  },
  {
   "cell_type": "code",
   "execution_count": 12,
   "metadata": {},
   "outputs": [],
   "source": [
    "class RegLinearMid(nn.Module):\n",
    "    #definimos la funcion instanciadora\n",
    "    def __init__(self):\n",
    "        # se llama al instanciador de la clase padre implementado en torch\n",
    "        super(RegLinearMid, self).__init__()\n",
    "        #definimos las capas, estas deben ser atributos de la clase\n",
    "        self.fc = nn.Linear(2, 1, True)\n",
    "    #definimos la funcion de propagacion que usa el atributo de la clase\n",
    "    #el nombre de la funcion forward no debe cambiarse, si se hace el codigo no jala esto por la clase padre\n",
    "    def forward(self, x):\n",
    "        return self.fc(x)"
   ]
  },
  {
   "cell_type": "code",
   "execution_count": 13,
   "metadata": {},
   "outputs": [],
   "source": [
    "#instanciamos a partir de la clase RegLinearMid\n",
    "regLinearMid = RegLinearMid()"
   ]
  },
  {
   "cell_type": "code",
   "execution_count": 14,
   "metadata": {},
   "outputs": [
    {
     "name": "stdout",
     "output_type": "stream",
     "text": [
      "Alto nivel --> Sequential(\n",
      "  (0): Linear(in_features=2, out_features=1, bias=True)\n",
      ")\n",
      "Medio nivel --> RegLinearMid(\n",
      "  (fc): Linear(in_features=2, out_features=1, bias=True)\n",
      ")\n"
     ]
    }
   ],
   "source": [
    "#imprimimos ambos modelos\n",
    "print('Alto nivel --> {0}'.format(regLinear))\n",
    "print('Medio nivel --> {0}'.format(regLinearMid))"
   ]
  },
  {
   "cell_type": "markdown",
   "metadata": {},
   "source": [
    "#### Probando ambas arquitecturas con un dato sintetico (buenas practicas)"
   ]
  },
  {
   "cell_type": "code",
   "execution_count": 15,
   "metadata": {},
   "outputs": [
    {
     "name": "stdout",
     "output_type": "stream",
     "text": [
      "El tipo del vector sintetico es torch.float32. El shape y tipo de la prediccion de alto nivel es torch.Size([8, 1]), torch.float32.El shape y tipo de la prediccion de medio nivel es torch.Size([8, 1]), torch.float32.\n"
     ]
    }
   ],
   "source": [
    "#definimos un dato sintetico de puros ceros (tensor de dimension 1,2) con ceros\n",
    "prueba = torch.zeros(8,2)\n",
    "#predecimos con nuestros modelos el dato sintetico\n",
    "prediccionAlto = regLinear(prueba)\n",
    "prediccionMedio = regLinearMid(prueba)\n",
    "print('El tipo del vector sintetico es {0}. El shape y tipo de la prediccion de alto nivel es {1}, {2}.'\n",
    "      'El shape y tipo de la prediccion de medio nivel es {3}, {4}.'.format(prueba.dtype, prediccionAlto.shape,\n",
    "                                                                            prediccionAlto.dtype, prediccionMedio.shape,\n",
    "                                                                            prediccionMedio.dtype))"
   ]
  },
  {
   "cell_type": "markdown",
   "metadata": {},
   "source": [
    "### Ciclo de entrenamiento"
   ]
  },
  {
   "cell_type": "code",
   "execution_count": 16,
   "metadata": {},
   "outputs": [],
   "source": [
    "def entrename(X, modelo, epochs, learningRate=0.001):\n",
    "    #definimos el optimizador o el algoritmo a emplear para el entrenamiento.\n",
    "    #Para nuestro caso usaremos descenso del gradiente estocastico SGD\n",
    "    opt = optim.SGD(modelo.parameters(), lr=learningRate)\n",
    "    #creamos una lista donde se guardaran las perdidas por cada epoco\n",
    "    lossHistory = []\n",
    "    #iteramos sobre todas las epocas\n",
    "    for epoch in range(epochs):\n",
    "        #iteramos sobre todos los ejemplos del batch\n",
    "        for x, y in X:\n",
    "            #hacemos la prediccion\n",
    "            prediccion = modelo(x)\n",
    "            #calculamos la perdida usando la funcion mean squared error\n",
    "            loss = func.mse_loss(prediccion, y)\n",
    "            #vaciamos los gradientes para que los calculos anteriores no interfieran con los nuevos\n",
    "            opt.zero_grad()\n",
    "            #hacemos la retropropagacion del error\n",
    "            loss.backward()\n",
    "            # actualizamos los parametros por descenso del gradiente\n",
    "            opt.step()\n",
    "            #almacemamos la perdida actual en el historial de perdidas\n",
    "            lossHistory.append(loss.item())\n",
    "    opt.zero_grad()\n",
    "    #regresamos los parametros calculados (matriz de peso y el sesgo), asi como el historial de perdidas\n",
    "    return modelo.parameters(), lossHistory"
   ]
  },
  {
   "cell_type": "code",
   "execution_count": 22,
   "metadata": {},
   "outputs": [],
   "source": [
    "[wAlto,bAlto] , lossHistoryAlto = entrename(trainDataL, modelo=regLinear, epochs=50)"
   ]
  },
  {
   "cell_type": "code",
   "execution_count": 23,
   "metadata": {},
   "outputs": [
    {
     "data": {
      "image/png": "[encoded data removed]",
      "text/plain": [
       "<Figure size 432x288 with 1 Axes>"
      ]
     },
     "metadata": {
      "needs_background": "light"
     },
     "output_type": "display_data"
    }
   ],
   "source": [
    "#plt.close()\n",
    "#%matplotlib inline\n",
    "plt.plot(np.arange(len(lossHistoryAlto)), lossHistoryAlto, '.', label='Perdida', color = 'pink')\n",
    "plt.xlabel('iteraciones')\n",
    "plt.ylabel('ECM')\n",
    "plt.grid(True)\n",
    "plt.show()"
   ]
  },
  {
   "cell_type": "code",
   "execution_count": 24,
   "metadata": {},
   "outputs": [
    {
     "data": {
      "image/png": "[encoded data removed]",
      "text/plain": [
       "<Figure size 432x288 with 1 Axes>"
      ]
     },
     "metadata": {
      "needs_background": "light"
     },
     "output_type": "display_data"
    }
   ],
   "source": [
    "plt.plot(lossHistoryAlto, color='red')\n",
    "plt.xlabel('iteraciones')\n",
    "plt.ylabel('ECM');"
   ]
  },
  {
   "cell_type": "code",
   "execution_count": 25,
   "metadata": {},
   "outputs": [
    {
     "data": {
      "text/plain": [
       "Parameter containing:\n",
       "tensor([-0.4423], requires_grad=True)"
      ]
     },
     "execution_count": 25,
     "metadata": {},
     "output_type": "execute_result"
    }
   ],
   "source": [
    "bAlto"
   ]
  }
 ],
 "metadata": {
  "kernelspec": {
   "display_name": "Python 3",
   "language": "python",
   "name": "python3"
  },
  "language_info": {
   "codemirror_mode": {
    "name": "ipython",
    "version": 3
   },
   "file_extension": ".py",
   "mimetype": "text/x-python",
   "name": "python",
   "nbconvert_exporter": "python",
   "pygments_lexer": "ipython3",
   "version": "3.7.9"
  }
 },
 "nbformat": 4,
 "nbformat_minor": 4
}
